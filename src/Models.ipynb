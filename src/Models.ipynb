{
 "cells": [
  {
   "cell_type": "markdown",
   "metadata": {},
   "source": [
    "# Models\n",
    "In this part, we are using 4 different models: Gradient Boosting Regression, Linear Regression, Neural Network, and Support Vector Regression."
   ]
  },
  {
   "cell_type": "code",
   "execution_count": 10,
   "metadata": {
    "collapsed": true
   },
   "outputs": [],
   "source": [
    "import pandas as pd\n",
    "import numpy as np\n",
    "import sklearn\n",
    "import os, sys"
   ]
  },
  {
   "cell_type": "code",
   "execution_count": 11,
   "metadata": {},
   "outputs": [],
   "source": [
    "DATA_DIR = \"../data/\"\n",
    "DATA_FILE = DATA_DIR + \"dataX.csv\"\n",
    "TARGET_FILE = DATA_DIR + \"dataY.csv\"\n",
    "\n",
    "# Check if data dir or file exist\n",
    "if not os.path.exists(DATA_DIR) \\\n",
    "    or not os.path.exists(DATA_FILE)\\\n",
    "    or not os.path.exists(TARGET_FILE):\n",
    "    print(\n",
    "        \"CANNOT find {}, {}, or {}\".format(DATA_DIR, DATA_FILE, TARGET_FILE),\n",
    "        file=sys.stderr\n",
    "    )\n",
    "    sys.exit()\n",
    "\n",
    "# Load csv data\n",
    "dfX = pd.read_csv(DATA_FILE)\n",
    "dfY = pd.read_csv(TARGET_FILE)\n",
    "X = dfX.as_matrix()\n",
    "y = dfY.as_matrix(columns=['transaction_amount'])"
   ]
  },
  {
   "cell_type": "markdown",
   "metadata": {},
   "source": [
    "Using ShuffleSplit to do Cross Validation index partition."
   ]
  },
  {
   "cell_type": "code",
   "execution_count": 14,
   "metadata": {},
   "outputs": [
    {
     "data": {
      "text/plain": [
       "10"
      ]
     },
     "execution_count": 14,
     "metadata": {},
     "output_type": "execute_result"
    }
   ],
   "source": [
    "from sklearn.model_selection import ShuffleSplit\n",
    "rs = ShuffleSplit(n_splits=10, test_size=.1, random_state=2018)\n",
    "rs.get_n_splits(X)"
   ]
  },
  {
   "cell_type": "code",
   "execution_count": 15,
   "metadata": {
    "collapsed": true
   },
   "outputs": [],
   "source": [
    "from sklearn.metrics import explained_variance_score\n",
    "from sklearn.metrics import r2_score\n",
    "\n",
    "def evaluate(y_true, y_pred, model):\n",
    "    r2score_reg = r2_score(y_true, y_pred)\n",
    "    ev_score = explained_variance_score(y_true, y_pred)    \n",
    "    print(\"R2 Score - Regular:\\t{:.4f}\\n\"\n",
    "          \"Explained Variance Score:\\t{:.4f}\\n\"\n",
    "          .format(\n",
    "              r2score_reg, \n",
    "              ev_score))"
   ]
  },
  {
   "cell_type": "code",
   "execution_count": 16,
   "metadata": {
    "collapsed": true
   },
   "outputs": [],
   "source": [
    "from sklearn.preprocessing import normalize\n",
    "X_norm = normalize(X, axis=0, norm='max')\n",
    "y_norm = normalize(y, axis=0, norm='max')"
   ]
  },
  {
   "cell_type": "code",
   "execution_count": 17,
   "metadata": {},
   "outputs": [
    {
     "name": "stdout",
     "output_type": "stream",
     "text": [
      "R2 Score - Regular:\t0.2844\n",
      "Explained Variance Score:\t0.2844\n",
      "\n",
      "R2 Score - Regular:\t0.3083\n",
      "Explained Variance Score:\t0.3083\n",
      "\n",
      "R2 Score - Regular:\t0.2581\n",
      "Explained Variance Score:\t0.2582\n",
      "\n",
      "R2 Score - Regular:\t0.2615\n",
      "Explained Variance Score:\t0.2616\n",
      "\n",
      "R2 Score - Regular:\t0.2502\n",
      "Explained Variance Score:\t0.2502\n",
      "\n",
      "R2 Score - Regular:\t0.2516\n",
      "Explained Variance Score:\t0.2516\n",
      "\n",
      "R2 Score - Regular:\t0.2726\n",
      "Explained Variance Score:\t0.2727\n",
      "\n",
      "R2 Score - Regular:\t0.2305\n",
      "Explained Variance Score:\t0.2305\n",
      "\n",
      "R2 Score - Regular:\t0.2649\n",
      "Explained Variance Score:\t0.2649\n",
      "\n",
      "R2 Score - Regular:\t0.3057\n",
      "Explained Variance Score:\t0.3057\n",
      "\n"
     ]
    }
   ],
   "source": [
    "from sklearn.linear_model import LinearRegression\n",
    "\n",
    "for train_index, test_index in rs.split(X):\n",
    "    train_X, train_y = X[train_index], y[train_index]\n",
    "    test_X, test_y = X[test_index], y[test_index]\n",
    "    \n",
    "    # Linear Regression\n",
    "    lm = LinearRegression()\n",
    "    lm.fit(train_X, train_y)\n",
    "    y_pred = lm.predict(test_X)\n",
    "    evaluate(test_y, y_pred, \"Linear Regress\")"
   ]
  },
  {
   "cell_type": "code",
   "execution_count": 18,
   "metadata": {},
   "outputs": [
    {
     "name": "stderr",
     "output_type": "stream",
     "text": [
      "/home/zeyu/anaconda3/lib/python3.6/site-packages/sklearn/utils/validation.py:578: DataConversionWarning: A column-vector y was passed when a 1d array was expected. Please change the shape of y to (n_samples, ), for example using ravel().\n",
      "  y = column_or_1d(y, warn=True)\n"
     ]
    },
    {
     "name": "stdout",
     "output_type": "stream",
     "text": [
      "R2 Score - Regular:\t0.4081\n",
      "Explained Variance Score:\t0.4081\n",
      "\n",
      "R2 Score - Regular:\t0.3967\n",
      "Explained Variance Score:\t0.3967\n",
      "\n",
      "R2 Score - Regular:\t0.3836\n",
      "Explained Variance Score:\t0.3839\n",
      "\n",
      "R2 Score - Regular:\t0.3744\n",
      "Explained Variance Score:\t0.3744\n",
      "\n",
      "R2 Score - Regular:\t0.3669\n",
      "Explained Variance Score:\t0.3669\n",
      "\n",
      "R2 Score - Regular:\t0.3935\n",
      "Explained Variance Score:\t0.3935\n",
      "\n",
      "R2 Score - Regular:\t0.3895\n",
      "Explained Variance Score:\t0.3895\n",
      "\n",
      "R2 Score - Regular:\t0.3532\n",
      "Explained Variance Score:\t0.3532\n",
      "\n",
      "R2 Score - Regular:\t0.3945\n",
      "Explained Variance Score:\t0.3945\n",
      "\n",
      "R2 Score - Regular:\t0.4214\n",
      "Explained Variance Score:\t0.4214\n",
      "\n"
     ]
    }
   ],
   "source": [
    "from sklearn.ensemble import GradientBoostingRegressor\n",
    "for train_index, test_index in rs.split(X):\n",
    "    train_X, train_y = X[train_index], y[train_index]\n",
    "    test_X, test_y = X[test_index], y[test_index]\n",
    "    rbr = GradientBoostingRegressor(n_estimators=100, \n",
    "                                    learning_rate=0.1,\n",
    "                                    max_depth=1, \n",
    "                                    random_state=0, \n",
    "                                    loss='ls')\n",
    "    rbr.fit(train_X, train_y)\n",
    "    evaluate(test_y, rbr.predict(test_X), \"Gradient Tree Boosting\")\n",
    "    "
   ]
  },
  {
   "cell_type": "code",
   "execution_count": 19,
   "metadata": {},
   "outputs": [
    {
     "name": "stderr",
     "output_type": "stream",
     "text": [
      "/home/zeyu/anaconda3/lib/python3.6/site-packages/sklearn/neural_network/multilayer_perceptron.py:1306: DataConversionWarning: A column-vector y was passed when a 1d array was expected. Please change the shape of y to (n_samples, ), for example using ravel().\n",
      "  y = column_or_1d(y, warn=True)\n"
     ]
    },
    {
     "name": "stdout",
     "output_type": "stream",
     "text": [
      "R2 Score - Regular:\t0.2333\n",
      "Explained Variance Score:\t0.2334\n",
      "\n",
      "R2 Score - Regular:\t0.2350\n",
      "Explained Variance Score:\t0.2351\n",
      "\n",
      "R2 Score - Regular:\t0.2455\n",
      "Explained Variance Score:\t0.2456\n",
      "\n",
      "R2 Score - Regular:\t0.2091\n",
      "Explained Variance Score:\t0.2091\n",
      "\n",
      "R2 Score - Regular:\t0.1872\n",
      "Explained Variance Score:\t0.1872\n",
      "\n",
      "R2 Score - Regular:\t0.2307\n",
      "Explained Variance Score:\t0.2307\n",
      "\n",
      "R2 Score - Regular:\t0.2332\n",
      "Explained Variance Score:\t0.2332\n",
      "\n",
      "R2 Score - Regular:\t0.2102\n",
      "Explained Variance Score:\t0.2102\n",
      "\n",
      "R2 Score - Regular:\t0.2213\n",
      "Explained Variance Score:\t0.2213\n",
      "\n",
      "R2 Score - Regular:\t0.2456\n",
      "Explained Variance Score:\t0.2456\n",
      "\n"
     ]
    }
   ],
   "source": [
    "# Neural Network Regressor\n",
    "from sklearn.neural_network import MLPRegressor\n",
    "for train_index, test_index in rs.split(X):\n",
    "    train_X, train_y = X_norm[train_index], y_norm[train_index]\n",
    "    test_X, test_y = X_norm[test_index], y_norm[test_index]\n",
    "\n",
    "    nnreg = MLPRegressor(hidden_layer_sizes=(200, 50,5),\n",
    "                 activation='tanh',\n",
    "                 solver='sgd',\n",
    "                 alpha=0.1,\n",
    "                 learning_rate='adaptive',\n",
    "                 learning_rate_init=0.001,\n",
    "                 max_iter=500)\n",
    "    nnreg.fit(train_X, train_y)\n",
    "    y_pred = nnreg.predict(test_X)\n",
    "    evaluate(test_y, y_pred, \"NN\")"
   ]
  },
  {
   "cell_type": "code",
   "execution_count": 20,
   "metadata": {},
   "outputs": [
    {
     "name": "stderr",
     "output_type": "stream",
     "text": [
      "/home/zeyu/anaconda3/lib/python3.6/site-packages/sklearn/utils/validation.py:578: DataConversionWarning: A column-vector y was passed when a 1d array was expected. Please change the shape of y to (n_samples, ), for example using ravel().\n",
      "  y = column_or_1d(y, warn=True)\n"
     ]
    },
    {
     "name": "stdout",
     "output_type": "stream",
     "text": [
      "R2 Score - Regular:\t-2.7836\n",
      "Explained Variance Score:\t0.2274\n",
      "\n",
      "R2 Score - Regular:\t-3.0659\n",
      "Explained Variance Score:\t0.2452\n",
      "\n",
      "R2 Score - Regular:\t-2.6039\n",
      "Explained Variance Score:\t0.2265\n",
      "\n",
      "R2 Score - Regular:\t-3.0716\n",
      "Explained Variance Score:\t0.2198\n",
      "\n",
      "R2 Score - Regular:\t-2.8697\n",
      "Explained Variance Score:\t0.2213\n",
      "\n",
      "R2 Score - Regular:\t-3.0079\n",
      "Explained Variance Score:\t0.2269\n",
      "\n",
      "R2 Score - Regular:\t-2.8086\n",
      "Explained Variance Score:\t0.2226\n",
      "\n",
      "R2 Score - Regular:\t-2.9331\n",
      "Explained Variance Score:\t0.2075\n",
      "\n",
      "R2 Score - Regular:\t-2.7156\n",
      "Explained Variance Score:\t0.2315\n",
      "\n",
      "R2 Score - Regular:\t-3.1921\n",
      "Explained Variance Score:\t0.2463\n",
      "\n"
     ]
    }
   ],
   "source": [
    "# Support Vector Regressor\n",
    "from sklearn import svm\n",
    "for train_index, test_index in rs.split(X):\n",
    "    train_X, train_y = X_norm[train_index], y_norm[train_index]\n",
    "    test_X, test_y = X_norm[test_index], y_norm[test_index]\n",
    "    svreg = svm.SVR()\n",
    "    svreg.fit(train_X, train_y)\n",
    "    evaluate(test_y, svreg.predict(test_X), \"SVR\")"
   ]
  },
  {
   "cell_type": "code",
   "execution_count": 21,
   "metadata": {},
   "outputs": [
    {
     "name": "stderr",
     "output_type": "stream",
     "text": [
      "/home/zeyu/anaconda3/lib/python3.6/site-packages/sklearn/neural_network/multilayer_perceptron.py:1306: DataConversionWarning: A column-vector y was passed when a 1d array was expected. Please change the shape of y to (n_samples, ), for example using ravel().\n",
      "  y = column_or_1d(y, warn=True)\n"
     ]
    },
    {
     "name": "stdout",
     "output_type": "stream",
     "text": [
      "[ 0.02779675  0.01449258  0.01802315  0.04026573  0.02039109  0.02621243\n",
      "  0.04230546  0.08472288  0.02156243  0.02818379]\n",
      "R2 Score - Regular:\t-0.0589\n",
      "Explained Variance Score:\t-0.0588\n",
      "\n",
      "[ 0.01985885  0.02124155  0.04099629  0.01270819  0.03153647  0.03759776\n",
      "  0.06096505  0.05380119  0.04024489  0.02819383]\n",
      "R2 Score - Regular:\t-0.3560\n",
      "Explained Variance Score:\t-0.3556\n",
      "\n",
      "[ 0.02031199  0.0061399   0.04436574  0.0308972   0.0159773   0.04929853\n",
      "  0.02625813  0.01559733 -0.00578754  0.04145787]\n",
      "R2 Score - Regular:\t0.0370\n",
      "Explained Variance Score:\t0.0373\n",
      "\n",
      "[ 0.04670062  0.02981889  0.02534115 -0.00133522  0.03872979  0.02633895\n",
      "  0.06534957  0.00925886  0.0484656   0.04902986]\n",
      "R2 Score - Regular:\t-0.1721\n",
      "Explained Variance Score:\t-0.1720\n",
      "\n",
      "[ 0.06899578  0.03950421  0.08701522 -0.04022355  0.01411301  0.25905389\n",
      "  0.0466987   0.05710655 -0.01033755  0.03125264]\n",
      "R2 Score - Regular:\t-0.1360\n",
      "Explained Variance Score:\t-0.1360\n",
      "\n",
      "[ 0.03234826  0.05295523  0.03971633  0.03166617  0.04148953  0.03864407\n",
      "  0.04206216  0.02212921  0.0166522  -0.00044185]\n",
      "R2 Score - Regular:\t-0.0337\n",
      "Explained Variance Score:\t-0.0337\n",
      "\n",
      "[ 0.03890999  0.03572331  0.01132079  0.0343388   0.01105281  0.02738448\n",
      "  0.0048254   0.03418401  0.03093827  0.02667327]\n",
      "R2 Score - Regular:\t-0.4268\n",
      "Explained Variance Score:\t-0.4265\n",
      "\n",
      "[ 0.02448801  0.03986178  0.02997195  0.02667611  0.02477787  0.03970676\n",
      " -0.0083212   0.02230668  0.02870618  0.02798098]\n",
      "R2 Score - Regular:\t-0.1824\n",
      "Explained Variance Score:\t-0.1823\n",
      "\n",
      "[ 0.04147353  0.03023706  0.06201619  0.03163236  0.04439026  0.01982236\n",
      "  0.04314954  0.03421356  0.02269113  0.03174587]\n",
      "R2 Score - Regular:\t-0.1577\n",
      "Explained Variance Score:\t-0.1576\n",
      "\n",
      "[ 0.02758382  0.01729491  0.01642118  0.04825264 -0.01084085  0.01644846\n",
      "  0.01357623  0.03526422 -0.0408339   0.03849534]\n",
      "R2 Score - Regular:\t-0.2654\n",
      "Explained Variance Score:\t-0.2654\n",
      "\n"
     ]
    }
   ],
   "source": [
    "# Neural Network Regressor Simplifed Version\n",
    "from sklearn.neural_network import MLPRegressor\n",
    "for train_index, test_index in rs.split(X):\n",
    "    train_X, train_y = X_norm[train_index], y_norm[train_index]\n",
    "    test_X, test_y = X_norm[test_index], y_norm[test_index]\n",
    "\n",
    "    nnreg = MLPRegressor(hidden_layer_sizes=(20,5),\n",
    "                 activation='tanh',\n",
    "                 solver='sgd',\n",
    "                 alpha=0.1,\n",
    "                 learning_rate='adaptive',\n",
    "                 learning_rate_init=0.001,\n",
    "                 max_iter=500)\n",
    "    nnreg.fit(train_X, train_y)\n",
    "    y_pred = nnreg.predict(test_X)\n",
    "    print(y_pred[:10])\n",
    "    evaluate(test_y, y_pred, \"NN\")"
   ]
  }
 ],
 "metadata": {
  "kernelspec": {
   "display_name": "Python 3",
   "language": "python",
   "name": "python3"
  },
  "language_info": {
   "codemirror_mode": {
    "name": "ipython",
    "version": 3
   },
   "file_extension": ".py",
   "mimetype": "text/x-python",
   "name": "python",
   "nbconvert_exporter": "python",
   "pygments_lexer": "ipython3",
   "version": "3.6.3"
  }
 },
 "nbformat": 4,
 "nbformat_minor": 2
}
