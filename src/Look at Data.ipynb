{
 "cells": [
  {
   "cell_type": "markdown",
   "metadata": {},
   "source": [
    "# Presentation version"
   ]
  },
  {
   "cell_type": "code",
   "execution_count": 1,
   "metadata": {},
   "outputs": [
    {
     "name": "stdout",
     "output_type": "stream",
     "text": [
      "\n",
      "=======================\n",
      "    DATA Overview\n",
      "=======================\n",
      "Size of Data: 158800\n",
      "Zero Transction Amount 471\n",
      "Zero Loan Amount 109618\n",
      "Num. of Lenders:10074, \n",
      "\t Num. of \"* Undisclosed\" 110687\n",
      "Num. of property_type 12\n",
      "\n"
     ]
    },
    {
     "data": {
      "text/plain": [
       "'\\nNow draw plot to look at different distribution of data. Using NumPy and Matplotlib.\\n    Transaction amount: ta\\n    Loan amount: la\\n    Lender: ld (might have long tail)\\n    Transaction date: td\\n    Property type: pt\\n    Year built: yb\\n    Square foot: sf\\n    Property Address: pa\\n'"
      ]
     },
     "execution_count": 1,
     "metadata": {},
     "output_type": "execute_result"
    }
   ],
   "source": [
    "import os, sys\n",
    "import pandas as pd\n",
    "import numpy as np\n",
    "\n",
    "\"\"\"\n",
    "Preprocessing the data\n",
    "\n",
    "\"\"\"\n",
    "\n",
    "DATA_DIR = \"../data/\"\n",
    "RAW_DATA_FILE = DATA_DIR + \"data.csv\"\n",
    "\n",
    "# Check if data dir or file exist\n",
    "if not os.path.exists(DATA_DIR) \\\n",
    "    or not os.path.exists(RAW_DATA_FILE):\n",
    "    print(\n",
    "        \"CANNOT find {} or {}\".format(DATA_DIR, RAW_DATA_FILE),\n",
    "        file=sys.stderr\n",
    "    )\n",
    "    sys.exit()\n",
    "\n",
    "# Load csv data\n",
    "raw_data = pd.read_csv(RAW_DATA_FILE)\n",
    "\n",
    "# Columns that we think useful\n",
    "COLS = [\n",
    "            \"property_id\",\n",
    "            \"transaction_amount\",\n",
    "            \"loan_amount\",\n",
    "            \"lender\",\n",
    "            \"transaction_date\",\n",
    "            \"property_type\",\n",
    "            \"year_built\",\n",
    "            \"sqft\",\n",
    "            \"property_address\"\n",
    "        ]\n",
    "\n",
    "data = raw_data[COLS]\n",
    "\n",
    "print(\n",
    "    \"\\n=======================\\n\"\n",
    "    \"    DATA Overview\\n\"\n",
    "    \"=======================\\n\"\n",
    "    \"Size of Data: {:d}\\n\"\n",
    "    \"Zero Transction Amount {:d}\\n\"\n",
    "    \"Zero Loan Amount {:d}\\n\"\n",
    "    \"Num. of Lenders:{:d}, \\n\\t Num. of \\\"* Undisclosed\\\" {:d}\\n\"\n",
    "    \"Num. of property_type {:d}\\n\"\n",
    "    .format(\n",
    "        data.shape[0],\n",
    "        data.transaction_amount.value_counts()[0],\n",
    "        data.loan_amount.value_counts()[0],\n",
    "        data.lender.nunique(),\n",
    "        data.lender.value_counts()['* Undisclosed'],\n",
    "        data.property_type.nunique()\n",
    "    )\n",
    ")\n",
    "\n",
    "\"\"\"\n",
    "Now draw plot to look at different distribution of data. Using NumPy and Matplotlib.\n",
    "    Transaction amount: ta\n",
    "    Loan amount: la\n",
    "    Lender: ld (might have long tail)\n",
    "    Transaction date: td\n",
    "    Property type: pt\n",
    "    Year built: yb\n",
    "    Square foot: sf\n",
    "    Property Address: pa\n",
    "\"\"\"\n",
    "\n",
    "\n"
   ]
  },
  {
   "cell_type": "markdown",
   "metadata": {},
   "source": [
    "## Address"
   ]
  },
  {
   "cell_type": "code",
   "execution_count": 2,
   "metadata": {
    "collapsed": true
   },
   "outputs": [],
   "source": [
    "np_pa = data.as_matrix(columns=['property_address'])\\\n",
    "            .transpose()\n"
   ]
  },
  {
   "cell_type": "markdown",
   "metadata": {},
   "source": [
    "## Transaction Amount"
   ]
  },
  {
   "cell_type": "code",
   "execution_count": 3,
   "metadata": {
    "scrolled": false
   },
   "outputs": [
    {
     "data": {
      "text/plain": [
       "(231000000, 0)"
      ]
     },
     "execution_count": 3,
     "metadata": {},
     "output_type": "execute_result"
    }
   ],
   "source": [
    "# Transaction amount:\n",
    "np_ta = data.as_matrix(columns=[\"transaction_amount\"])\\\n",
    "            .transpose()\n",
    "\n",
    "ta_min, ta_max = np.amin(np_ta), np.amax(np_ta)\n",
    "ta_max, ta_min"
   ]
  },
  {
   "cell_type": "code",
   "execution_count": 4,
   "metadata": {},
   "outputs": [
    {
     "name": "stdout",
     "output_type": "stream",
     "text": [
      "[150568   5919   1131    385    225    116     90     86     43     33\n",
      "     33      9     22      9     22     11     12      4      8      1\n",
      "      8      3      4      0      3      5      0      0      4      0\n",
      "      1      0      7      2      0      3      3      1      1      0\n",
      "      0      0      0      2      2      0      4      0      0      0\n",
      "      0      0      0      0      0      0      3      0      0      0\n",
      "      0      0      4      0      0      3      0      0      3      0\n",
      "      0      0      1      0      0      0      0      0      0      0\n",
      "      0      0      1      0      0      0      0      0      0      0\n",
      "      1      0      0      0      0      0      0      0      0      0\n",
      "      0      0      0      0      0      0      0      0      0      0\n",
      "      0      0      0      0      0      0      0      0      1      0\n",
      "      0      0      0      0      0      0      0      0      0      0\n",
      "      0      0      0      0      0      0      0      0      0      0\n",
      "      0      0      0      0      0      0      0      0      0      0\n",
      "      2      0      0      0      0      0      0      0      0      0\n",
      "      0      0      0      0      0      0      0      0      0      0\n",
      "      0      0      0      0      0      0      0      0      0      0\n",
      "      0      0      0      0      0      0      0      0      0      0\n",
      "      0      0      0      0      0      0      0      0      0      0\n",
      "      0      0      0      0      0      0      0      0      0      0\n",
      "      0      0      0      0      0      0      0      0      0      0\n",
      "      0      0      0      0      0      0      0      0      0      0\n",
      "      1]\n",
      "[        0   1000000   2000000   3000000   4000000   5000000   6000000\n",
      "   7000000   8000000   9000000  10000000  11000000  12000000  13000000\n",
      "  14000000  15000000  16000000  17000000  18000000  19000000  20000000\n",
      "  21000000  22000000  23000000  24000000  25000000  26000000  27000000\n",
      "  28000000  29000000  30000000  31000000  32000000  33000000  34000000\n",
      "  35000000  36000000  37000000  38000000  39000000  40000000  41000000\n",
      "  42000000  43000000  44000000  45000000  46000000  47000000  48000000\n",
      "  49000000  50000000  51000000  52000000  53000000  54000000  55000000\n",
      "  56000000  57000000  58000000  59000000  60000000  61000000  62000000\n",
      "  63000000  64000000  65000000  66000000  67000000  68000000  69000000\n",
      "  70000000  71000000  72000000  73000000  74000000  75000000  76000000\n",
      "  77000000  78000000  79000000  80000000  81000000  82000000  83000000\n",
      "  84000000  85000000  86000000  87000000  88000000  89000000  90000000\n",
      "  91000000  92000000  93000000  94000000  95000000  96000000  97000000\n",
      "  98000000  99000000 100000000 101000000 102000000 103000000 104000000\n",
      " 105000000 106000000 107000000 108000000 109000000 110000000 111000000\n",
      " 112000000 113000000 114000000 115000000 116000000 117000000 118000000\n",
      " 119000000 120000000 121000000 122000000 123000000 124000000 125000000\n",
      " 126000000 127000000 128000000 129000000 130000000 131000000 132000000\n",
      " 133000000 134000000 135000000 136000000 137000000 138000000 139000000\n",
      " 140000000 141000000 142000000 143000000 144000000 145000000 146000000\n",
      " 147000000 148000000 149000000 150000000 151000000 152000000 153000000\n",
      " 154000000 155000000 156000000 157000000 158000000 159000000 160000000\n",
      " 161000000 162000000 163000000 164000000 165000000 166000000 167000000\n",
      " 168000000 169000000 170000000 171000000 172000000 173000000 174000000\n",
      " 175000000 176000000 177000000 178000000 179000000 180000000 181000000\n",
      " 182000000 183000000 184000000 185000000 186000000 187000000 188000000\n",
      " 189000000 190000000 191000000 192000000 193000000 194000000 195000000\n",
      " 196000000 197000000 198000000 199000000 200000000 201000000 202000000\n",
      " 203000000 204000000 205000000 206000000 207000000 208000000 209000000\n",
      " 210000000 211000000 212000000 213000000 214000000 215000000 216000000\n",
      " 217000000 218000000 219000000 220000000 221000000 222000000 223000000\n",
      " 224000000 225000000 226000000 227000000 228000000 229000000 230000000\n",
      " 231000000]\n",
      "0.998923173804\n",
      "0.999590680101\n"
     ]
    }
   ],
   "source": [
    "hist_ta, edge_ta = np.histogram(np_ta, bins=[x for x in range(ta_min, ta_max + 1000000, 1000000)])\n",
    "print(hist_ta)\n",
    "print(edge_ta)\n",
    "len(hist_ta)\n",
    "\n",
    "print(sum(hist_ta[:11]) / sum(hist_ta))\n",
    "print(sum(hist_ta[:21]) / sum(hist_ta))"
   ]
  },
  {
   "cell_type": "markdown",
   "metadata": {},
   "source": [
    "## Filtering Constraints:\n",
    "1. transaction amount < 1,300,000"
   ]
  },
  {
   "cell_type": "markdown",
   "metadata": {},
   "source": [
    "## Loan amount"
   ]
  },
  {
   "cell_type": "code",
   "execution_count": 5,
   "metadata": {
    "collapsed": true
   },
   "outputs": [],
   "source": [
    "np_la = data.as_matrix(columns=['loan_amount'])\\\n",
    "            .transpose()"
   ]
  },
  {
   "cell_type": "code",
   "execution_count": 6,
   "metadata": {},
   "outputs": [
    {
     "name": "stdout",
     "output_type": "stream",
     "text": [
      "0.0 46499900.0\n"
     ]
    }
   ],
   "source": [
    "la_min, la_max = np.amin(np_la), np.amax(np_la)\n",
    "print(la_min, la_max)"
   ]
  },
  {
   "cell_type": "code",
   "execution_count": 7,
   "metadata": {},
   "outputs": [
    {
     "name": "stdout",
     "output_type": "stream",
     "text": [
      "[114238  12164  11495   7549   5297   2480   1656    889    702    467\n",
      "    423    231    179    149    104    122     65     70     53     39\n",
      "     60     36     27     19     25     30     15     15      8     10\n",
      "     24      7     11      8      2     14      6      4      8      2\n",
      "      6      3      6      4      3      4      4      2      4      0\n",
      "     13      1      2      0      0      2      4      0      1      1\n",
      "      2      1      0      1      0      0      2      0      0      0\n",
      "      0      0      0      0      0      1      0      1      2      0\n",
      "      2      0      0      1      0      1      0      0      0      0\n",
      "      1      0      0      1      0      2      0      0      0      0\n",
      "     10      0      2      0      0      1      0      0      0      0\n",
      "      0      0      0      0      0      0      0      0      0      0\n",
      "      0      0      0      0      0      1      0      0      0      0\n",
      "      0      0      0      0      0      0      0      0      0      0\n",
      "      0      0      1      0      0      0      0      0      0      0\n",
      "      1      0      0      0      0      0      0      0      0      0\n",
      "      1      0      0      0      0      0      0      0      1      0\n",
      "      0      0      0      0      0      0      0      0      0      0\n",
      "      0      0      0      0      0      0      0      0      0      0\n",
      "      0      0      0      0      0      0      0      0      0      0\n",
      "      0      0      0      0      0      0      0      0      0      0\n",
      "      0      0      0      0      0      0      0      0      0      0\n",
      "      0      0      0      0      0      0      0      0      0      0\n",
      "      0      0      0      0      0      0      0      0      0      0\n",
      "      0      0      0      0      0      0      0      0      0      0\n",
      "      0      0      0      0      0      0      0      0      0      0\n",
      "      0      0      0      0      0      0      0      0      0      0\n",
      "      0      0      0      0      0      0      0      0      0      0\n",
      "      0      0      0      0      0      0      0      0      0      0\n",
      "      0      0      0      0      0      0      0      0      0      0\n",
      "      0      0      0      0      0      0      0      0      0      0\n",
      "      0      0      0      0      0      0      0      0      0      0\n",
      "      0      0      0      0      0      0      0      0      0      0\n",
      "      0      0      0      0      0      0      0      0      0      0\n",
      "      0      0      0      0      0      0      0      0      0      0\n",
      "      0      0      0      0      0      0      0      0      0      0\n",
      "      0      0      0      0      0      0      0      0      0      0\n",
      "      0      0      0      0      0      0      0      0      0      0\n",
      "      0      0      0      0      0      0      0      0      0      0\n",
      "      0      0      0      0      0      0      0      0      0      0\n",
      "      0      0      0      0      0      0      0      0      0      0\n",
      "      0      0      0      0      0      0      0      0      0      0\n",
      "      0      0      0      0      0      0      0      0      0      0\n",
      "      0      0      0      0      0      0      0      0      0      0\n",
      "      0      0      0      0      0      0      0      0      0      0\n",
      "      0      0      0      0      0      0      0      0      0      0\n",
      "      0      0      0      0]\n",
      "[       0   100000   200000   300000   400000   500000   600000   700000\n",
      "   800000   900000  1000000  1100000  1200000  1300000  1400000  1500000\n",
      "  1600000  1700000  1800000  1900000  2000000  2100000  2200000  2300000\n",
      "  2400000  2500000  2600000  2700000  2800000  2900000  3000000  3100000\n",
      "  3200000  3300000  3400000  3500000  3600000  3700000  3800000  3900000\n",
      "  4000000  4100000  4200000  4300000  4400000  4500000  4600000  4700000\n",
      "  4800000  4900000  5000000  5100000  5200000  5300000  5400000  5500000\n",
      "  5600000  5700000  5800000  5900000  6000000  6100000  6200000  6300000\n",
      "  6400000  6500000  6600000  6700000  6800000  6900000  7000000  7100000\n",
      "  7200000  7300000  7400000  7500000  7600000  7700000  7800000  7900000\n",
      "  8000000  8100000  8200000  8300000  8400000  8500000  8600000  8700000\n",
      "  8800000  8900000  9000000  9100000  9200000  9300000  9400000  9500000\n",
      "  9600000  9700000  9800000  9900000 10000000 10100000 10200000 10300000\n",
      " 10400000 10500000 10600000 10700000 10800000 10900000 11000000 11100000\n",
      " 11200000 11300000 11400000 11500000 11600000 11700000 11800000 11900000\n",
      " 12000000 12100000 12200000 12300000 12400000 12500000 12600000 12700000\n",
      " 12800000 12900000 13000000 13100000 13200000 13300000 13400000 13500000\n",
      " 13600000 13700000 13800000 13900000 14000000 14100000 14200000 14300000\n",
      " 14400000 14500000 14600000 14700000 14800000 14900000 15000000 15100000\n",
      " 15200000 15300000 15400000 15500000 15600000 15700000 15800000 15900000\n",
      " 16000000 16100000 16200000 16300000 16400000 16500000 16600000 16700000\n",
      " 16800000 16900000 17000000 17100000 17200000 17300000 17400000 17500000\n",
      " 17600000 17700000 17800000 17900000 18000000 18100000 18200000 18300000\n",
      " 18400000 18500000 18600000 18700000 18800000 18900000 19000000 19100000\n",
      " 19200000 19300000 19400000 19500000 19600000 19700000 19800000 19900000\n",
      " 20000000 20100000 20200000 20300000 20400000 20500000 20600000 20700000\n",
      " 20800000 20900000 21000000 21100000 21200000 21300000 21400000 21500000\n",
      " 21600000 21700000 21800000 21900000 22000000 22100000 22200000 22300000\n",
      " 22400000 22500000 22600000 22700000 22800000 22900000 23000000 23100000\n",
      " 23200000 23300000 23400000 23500000 23600000 23700000 23800000 23900000\n",
      " 24000000 24100000 24200000 24300000 24400000 24500000 24600000 24700000\n",
      " 24800000 24900000 25000000 25100000 25200000 25300000 25400000 25500000\n",
      " 25600000 25700000 25800000 25900000 26000000 26100000 26200000 26300000\n",
      " 26400000 26500000 26600000 26700000 26800000 26900000 27000000 27100000\n",
      " 27200000 27300000 27400000 27500000 27600000 27700000 27800000 27900000\n",
      " 28000000 28100000 28200000 28300000 28400000 28500000 28600000 28700000\n",
      " 28800000 28900000 29000000 29100000 29200000 29300000 29400000 29500000\n",
      " 29600000 29700000 29800000 29900000 30000000 30100000 30200000 30300000\n",
      " 30400000 30500000 30600000 30700000 30800000 30900000 31000000 31100000\n",
      " 31200000 31300000 31400000 31500000 31600000 31700000 31800000 31900000\n",
      " 32000000 32100000 32200000 32300000 32400000 32500000 32600000 32700000\n",
      " 32800000 32900000 33000000 33100000 33200000 33300000 33400000 33500000\n",
      " 33600000 33700000 33800000 33900000 34000000 34100000 34200000 34300000\n",
      " 34400000 34500000 34600000 34700000 34800000 34900000 35000000 35100000\n",
      " 35200000 35300000 35400000 35500000 35600000 35700000 35800000 35900000\n",
      " 36000000 36100000 36200000 36300000 36400000 36500000 36600000 36700000\n",
      " 36800000 36900000 37000000 37100000 37200000 37300000 37400000 37500000\n",
      " 37600000 37700000 37800000 37900000 38000000 38100000 38200000 38300000\n",
      " 38400000 38500000 38600000 38700000 38800000 38900000 39000000 39100000\n",
      " 39200000 39300000 39400000 39500000 39600000 39700000 39800000 39900000\n",
      " 40000000 40100000 40200000 40300000 40400000 40500000 40600000 40700000\n",
      " 40800000 40900000 41000000 41100000 41200000 41300000 41400000 41500000\n",
      " 41600000 41700000 41800000 41900000 42000000 42100000 42200000 42300000\n",
      " 42400000 42500000 42600000 42700000 42800000 42900000 43000000 43100000\n",
      " 43200000 43300000 43400000 43500000 43600000 43700000 43800000 43900000\n",
      " 44000000 44100000 44200000 44300000 44400000 44500000 44600000 44700000\n",
      " 44800000 44900000 45000000 45100000 45200000 45300000 45400000 45500000\n",
      " 45600000 45700000 45800000 45900000 46000000 46100000 46200000 46300000\n",
      " 46400000]\n",
      "\n",
      "Count of non-zero entries:\n",
      "49182\n",
      "\n",
      "Proportion of non-zero terms in loan amount\n",
      "0.3097103274559194\n"
     ]
    }
   ],
   "source": [
    "hist_la, edge_la = np.histogram(np_la, bins=[x for x in range(int(la_min), int(la_max), 100000)])\n",
    "print(hist_la)\n",
    "print(edge_la)\n",
    "\n",
    "print(\"\\nCount of non-zero entries:\")\n",
    "print(np.count_nonzero(np_la))\n",
    "\n",
    "print(\"\\nProportion of non-zero terms in loan amount\")\n",
    "print(np.count_nonzero(np_la) / np_la.shape[1])"
   ]
  },
  {
   "cell_type": "markdown",
   "metadata": {},
   "source": [
    "## Lender"
   ]
  },
  {
   "cell_type": "code",
   "execution_count": 8,
   "metadata": {},
   "outputs": [
    {
     "name": "stdout",
     "output_type": "stream",
     "text": [
      "lenders in total 158800\n",
      "unique lenders 10074\n",
      "Most Common * Undisclosed\n",
      "Count of that 110687\n"
     ]
    }
   ],
   "source": [
    "np_ld = data.as_matrix(columns=['lender'])\\\n",
    "            .transpose()\n",
    "print(\"lenders in total\", np_ld.size)\n",
    "print(\"unique lenders\", np.unique(np_ld).size)\n",
    "\n",
    "values,counts = np.unique(np_ld,return_counts=True)\n",
    "ind=np.argmax(counts)\n",
    "print(\"Most Common\", values[ind])\n",
    "print(\"Count of that\", counts[ind])\n"
   ]
  },
  {
   "cell_type": "markdown",
   "metadata": {},
   "source": [
    "## Transaction Date"
   ]
  },
  {
   "cell_type": "code",
   "execution_count": 9,
   "metadata": {},
   "outputs": [
    {
     "name": "stdout",
     "output_type": "stream",
     "text": [
      "['2012-01-03' '2012-01-03' '2012-01-03' ..., '2017-12-05' '2017-12-05'\n",
      " '2017-12-07']\n"
     ]
    }
   ],
   "source": [
    "np_td = data.as_matrix(columns=['transaction_date'])\\\n",
    "            .transpose()\n",
    "np_td.sort()\n",
    "np_td\n",
    "print(np_td[0])\n",
    "\n",
    "from datetime import datetime\n",
    "for td in np_td[0]:\n",
    "    dt_object = datetime.strptime(td, \"%Y-%m-%d\")\n",
    "    # print(dt_object.isoweekday())\n",
    "    # In iso weekday, 1 is Monday, 7 is Sunday"
   ]
  },
  {
   "cell_type": "markdown",
   "metadata": {
    "collapsed": true
   },
   "source": [
    "## Property Type"
   ]
  },
  {
   "cell_type": "code",
   "execution_count": 10,
   "metadata": {},
   "outputs": [
    {
     "name": "stdout",
     "output_type": "stream",
     "text": [
      "['RAPT' 'RCON' 'RCOO' 'RDUP' 'RMFD' 'RMOB' 'RMSC' 'RQUA' 'RSFR' 'RTIM'\n",
      " 'RTRI' 'VRES']\n",
      "[  1626  17255     33   3875   1482   2063   1452   1020 124417     15\n",
      "    887   4675]\n",
      "Sum: 158800\n"
     ]
    }
   ],
   "source": [
    "np_pt = data.as_matrix(columns=['property_type'])\\\n",
    "            .transpose()\n",
    "pt_values, pt_counts = np.unique(np_pt, return_counts=True)\n",
    "print(pt_values)\n",
    "print(pt_counts)\n",
    "print(\"Sum:\", sum(pt_counts))"
   ]
  },
  {
   "cell_type": "markdown",
   "metadata": {},
   "source": [
    "## Year built"
   ]
  },
  {
   "cell_type": "code",
   "execution_count": 11,
   "metadata": {},
   "outputs": [
    {
     "name": "stdout",
     "output_type": "stream",
     "text": [
      "0 2017\n",
      "Non-zero built year 149564\n",
      "Zero built year 9236\n",
      "[   0 1801 1808 1850 1860 1865 1870 1871 1873 1874 1875 1876 1877 1878 1879\n",
      " 1880 1881 1882 1883 1885 1886 1887 1888 1889 1890 1891 1892 1893 1894 1895\n",
      " 1896 1897 1898 1899 1900 1901 1902 1903 1904 1905 1906 1907 1908 1909 1910\n",
      " 1911 1912 1913 1914 1915 1916 1917 1918 1919 1920 1921 1922 1923 1924 1925\n",
      " 1926 1927 1928 1929 1930 1931 1932 1933 1934 1935 1936 1937 1938 1939 1940\n",
      " 1941 1942 1943 1944 1945 1946 1947 1948 1949 1950 1951 1952 1953 1954 1955\n",
      " 1956 1957 1958 1959 1960 1961 1962 1963 1964 1965 1966 1967 1968 1969 1970\n",
      " 1971 1972 1973 1974 1975 1976 1977 1978 1979 1980 1981 1982 1983 1984 1985\n",
      " 1986 1987 1988 1989 1990 1991 1992 1993 1994 1995 1996 1997 1998 1999 2000\n",
      " 2001 2002 2003 2004 2005 2006 2007 2008 2009 2010 2011 2012 2013 2014 2015\n",
      " 2016 2017]\n",
      "[9236   16    1    2    1    1    9    1    2    1    5    1    1    2    1\n",
      "   10    1    1    1   16    4    1   10    8   99    5    8   10    7   64\n",
      "   19   12   36   10  535   79   66   96  120  229  212  219  324  194  606\n",
      "  255  441  321  246  350  221  130  267  225  851  577 1126 1223 1352 1376\n",
      "  981  759  867  563  815  291  236  148  172  420  478  547  793  905 1430\n",
      " 1113  852  441  683  700 1235 2146 2144 1853 3069 2276 2472 2684 3194 3780\n",
      " 2900 2447 2227 2724 2978 2324 2210 2296 2471 1853 1164  969 1265 1235 1610\n",
      " 2029 2233 2262 1831 1432 1768 2432 2469 2766 2603 1761 1127 1381 1974 1954\n",
      " 2124 2089 2174 2485 2404 1394 1064  925  916  833  782  759  921  982 1191\n",
      " 1258 1324 1701 2092 2269 2079 1269  579  299  215  143  362  903 1118 1253\n",
      "  813   95]\n"
     ]
    }
   ],
   "source": [
    "np_yb = data.as_matrix(columns=['year_built'])\\\n",
    "            .transpose()\n",
    "print(np.amin(np_yb), np.amax(np_yb))\n",
    "print(\"Non-zero built year\", np.count_nonzero(np_yb))\n",
    "print(\"Zero built year\", np_yb.size - np.count_nonzero(np_yb))\n",
    "yb_values, yb_counts = np.unique(np_yb, return_counts=True)\n",
    "print(yb_values)\n",
    "print(yb_counts)"
   ]
  },
  {
   "cell_type": "markdown",
   "metadata": {},
   "source": [
    "## Sqft"
   ]
  },
  {
   "cell_type": "code",
   "execution_count": 12,
   "metadata": {},
   "outputs": [
    {
     "name": "stdout",
     "output_type": "stream",
     "text": [
      "[[2682 1452 1891 ..., 1296 1476 2096]]\n",
      "0 9621009\n",
      "# of Non-zero square foot 152158\n",
      "# of Zero Square foot 6642\n"
     ]
    }
   ],
   "source": [
    "np_sr = data.as_matrix(columns=['sqft'])\\\n",
    "            .transpose()\n",
    "print(np_sr)\n",
    "print(np.amin(np_sr), np.amax(np_sr))\n",
    "print(\"# of Non-zero square foot\", np.count_nonzero(np_sr))\n",
    "print(\"# of Zero Square foot\", np_sr.size - np.count_nonzero(np_sr))"
   ]
  },
  {
   "cell_type": "markdown",
   "metadata": {
    "collapsed": true
   },
   "source": [
    "Let's take a look at the entries where __sqft__ is 0"
   ]
  },
  {
   "cell_type": "code",
   "execution_count": 13,
   "metadata": {},
   "outputs": [
    {
     "name": "stdout",
     "output_type": "stream",
     "text": [
      "59778\n",
      "        transaction_amount  year_built property_type\n",
      "5                  1970000           0          VRES\n",
      "58                 9200000           0          VRES\n",
      "94                    3500           0          VRES\n",
      "152                1595000           0          VRES\n",
      "164                 400000           0          VRES\n",
      "199                  20000        1900          VRES\n",
      "200                 242000           0          VRES\n",
      "275                 350000           0          VRES\n",
      "279                2200000           0          VRES\n",
      "304                 860000           0          VRES\n",
      "307                 590700           0          VRES\n",
      "311                4000000           0          RMFD\n",
      "331                1070000           0          VRES\n",
      "335                2336000           0          RSFR\n",
      "374                   1000           0          VRES\n",
      "392                  45000           0          RSFR\n",
      "396                  40000           0          VRES\n",
      "441                   5000           0          VRES\n",
      "484                7400000           0          VRES\n",
      "495                  40000           0          VRES\n",
      "517                 350000           0          RMSC\n",
      "531                  25000           0          VRES\n",
      "543                 387000           0          VRES\n",
      "663                 590700           0          VRES\n",
      "700                 108000           0          VRES\n",
      "719                 164801           0          RSFR\n",
      "733                  45000           0          VRES\n",
      "809                  13000           0          VRES\n",
      "819                 260000           0          RMSC\n",
      "841                7700000        1987          RAPT\n",
      "...                    ...         ...           ...\n",
      "158286               17000           0          VRES\n",
      "158289               20000           0          RMSC\n",
      "158312             1665000           0          VRES\n",
      "158314             3573500           0          VRES\n",
      "158321              445000           0          VRES\n",
      "158344                5000           0          VRES\n",
      "158350              105000           0          RSFR\n",
      "158357               18000           0          RMOB\n",
      "158407                3500           0          VRES\n",
      "158448                4000           0          VRES\n",
      "158461              210000           0          VRES\n",
      "158465               33000           0          VRES\n",
      "158467             2242500           0          VRES\n",
      "158476               42500           0          RMOB\n",
      "158477               40000           0          RMOB\n",
      "158492               57000           0          RMOB\n",
      "158507               20000           0          VRES\n",
      "158546              332500           0          VRES\n",
      "158548             1442500           0          VRES\n",
      "158565              590000        1977          RAPT\n",
      "158619             2943000           0          VRES\n",
      "158626               75000           0          RSFR\n",
      "158631               65000           0          RSFR\n",
      "158633                1000           0          VRES\n",
      "158658              180000           0          RMFD\n",
      "158725              319000           0          VRES\n",
      "158763              322000           0          RMSC\n",
      "158772              376000           0          RMSC\n",
      "158781              362500           0          RMSC\n",
      "158786              166724           0          RSFR\n",
      "\n",
      "[6642 rows x 3 columns]\n"
     ]
    }
   ],
   "source": [
    "sqft_zero = data.loc[data['sqft'] == 0]\n",
    "print(sqft_zero.size)\n",
    "print(sqft_zero[['transaction_amount', 'year_built', 'property_type']])"
   ]
  },
  {
   "cell_type": "code",
   "execution_count": 14,
   "metadata": {},
   "outputs": [
    {
     "name": "stdout",
     "output_type": "stream",
     "text": [
      "0       6349\n",
      "1900     175\n",
      "2016      13\n",
      "1974       7\n",
      "1964       5\n",
      "1979       5\n",
      "1978       5\n",
      "1990       4\n",
      "1980       4\n",
      "1988       4\n",
      "2000       4\n",
      "Name: year_built, dtype: int64\n"
     ]
    }
   ],
   "source": [
    "print(sqft_zero['year_built'].value_counts()[:11])"
   ]
  },
  {
   "cell_type": "markdown",
   "metadata": {},
   "source": [
    "## Filtering the dataset\n",
    "__Constraints__\n",
    " * Transaction amout < 1,300,000\n",
    " * Year built and Square feet cannot be both 0"
   ]
  },
  {
   "cell_type": "code",
   "execution_count": 15,
   "metadata": {},
   "outputs": [],
   "source": [
    "newdata = data.copy()\n",
    "newdata = newdata.loc[ newdata['transaction_amount'] < 13000000 ]\n",
    "newdata = newdata.loc[ (newdata['year_built'] != 0) & (newdata['sqft'] != 0) ]"
   ]
  },
  {
   "cell_type": "code",
   "execution_count": 16,
   "metadata": {},
   "outputs": [
    {
     "data": {
      "text/plain": [
       "149199"
      ]
     },
     "execution_count": 16,
     "metadata": {},
     "output_type": "execute_result"
    }
   ],
   "source": [
    "newdata.shape[0]"
   ]
  },
  {
   "cell_type": "code",
   "execution_count": 17,
   "metadata": {
    "collapsed": true
   },
   "outputs": [],
   "source": [
    "bz = data.loc[ (data['year_built'] == 0) & (data['sqft'] == 0)]"
   ]
  },
  {
   "cell_type": "code",
   "execution_count": 18,
   "metadata": {
    "collapsed": true
   },
   "outputs": [],
   "source": [
    "tal = data.loc[ (data['transaction_amount']) > 13000000]"
   ]
  },
  {
   "cell_type": "code",
   "execution_count": 19,
   "metadata": {},
   "outputs": [
    {
     "name": "stdout",
     "output_type": "stream",
     "text": [
      "6488\n"
     ]
    }
   ],
   "source": [
    "print(bz.shape[0] + tal.shape[0])"
   ]
  },
  {
   "cell_type": "code",
   "execution_count": 20,
   "metadata": {},
   "outputs": [
    {
     "name": "stdout",
     "output_type": "stream",
     "text": [
      "6349\n"
     ]
    }
   ],
   "source": [
    "print(bz.shape[0])"
   ]
  },
  {
   "cell_type": "code",
   "execution_count": 21,
   "metadata": {},
   "outputs": [
    {
     "name": "stdout",
     "output_type": "stream",
     "text": [
      "139\n"
     ]
    }
   ],
   "source": [
    "print(tal.shape[0])"
   ]
  },
  {
   "cell_type": "markdown",
   "metadata": {
    "collapsed": true
   },
   "source": [
    "## New data distribution"
   ]
  },
  {
   "cell_type": "code",
   "execution_count": 22,
   "metadata": {
    "collapsed": true
   },
   "outputs": [],
   "source": [
    "nta = newdata.as_matrix(columns=[\"transaction_amount\"])\\\n",
    "            .transpose()"
   ]
  },
  {
   "cell_type": "code",
   "execution_count": 152,
   "metadata": {
    "collapsed": true
   },
   "outputs": [],
   "source": [
    "nta_hist, nta_edge = np.histogram(nta, bins=[x for x in range(0,2200000,50000)])"
   ]
  },
  {
   "cell_type": "code",
   "execution_count": 153,
   "metadata": {},
   "outputs": [
    {
     "name": "stdout",
     "output_type": "stream",
     "text": [
      "[ 6009 13161 16945 18152 16410 15019 12686  9714  7799  5738  4733  3304\n",
      "  2790  2083  1743  1438  1234  1127  1053   823   716   507   508   419\n",
      "   446   385   308   271   231   204   233   155   192   160   187   109\n",
      "   142   114    94    55   122    58    99]\n",
      "[      0   50000  100000  150000  200000  250000  300000  350000  400000\n",
      "  450000  500000  550000  600000  650000  700000  750000  800000  850000\n",
      "  900000  950000 1000000 1050000 1100000 1150000 1200000 1250000 1300000\n",
      " 1350000 1400000 1450000 1500000 1550000 1600000 1650000 1700000 1750000\n",
      " 1800000 1850000 1900000 1950000 2000000 2050000 2100000 2150000]\n"
     ]
    }
   ],
   "source": [
    "print(nta_hist)\n",
    "print(nta_edge)"
   ]
  },
  {
   "cell_type": "code",
   "execution_count": 154,
   "metadata": {},
   "outputs": [],
   "source": [
    "import matplotlib.pyplot as plt"
   ]
  },
  {
   "cell_type": "code",
   "execution_count": 155,
   "metadata": {},
   "outputs": [
    {
     "data": {
      "image/png": "[encoded data removed]",
      "text/plain": [
       "<matplotlib.figure.Figure at 0x7f1ab9d9dba8>"
      ]
     },
     "metadata": {},
     "output_type": "display_data"
    }
   ],
   "source": [
    "center = (nta_edge[:-1] + nta_edge[1:]) / 2\n",
    "fig, ax = plt.subplots(figsize=(10,10))\n",
    "ax.bar(center, \n",
    "       nta_hist, \n",
    "       align='center', \n",
    "       width=np.diff(nta_edge),\n",
    "       edgecolor='black')\n",
    "ax.set_xticks(nta_edge[::4])\n",
    "\n",
    "plt.xlabel('Intervals of Transaction Amount', fontsize=18)\n",
    "plt.ylabel('Transaction Amount Count', fontsize=18)\n",
    "plt.title('Distribution of Transaction Amount', fontsize=18)\n",
    "\n",
    "plt.grid(True)\n",
    "\n",
    "plt.show()"
   ]
  },
  {
   "cell_type": "code",
   "execution_count": 122,
   "metadata": {},
   "outputs": [
    {
     "name": "stderr",
     "output_type": "stream",
     "text": [
      "/home/zeyu/anaconda3/lib/python3.6/site-packages/numpy/lib/function_base.py:817: RuntimeWarning: invalid value encountered in true_divide\n",
      "  return n/db/n.sum(), bins\n"
     ]
    },
    {
     "ename": "KeyboardInterrupt",
     "evalue": "",
     "output_type": "error",
     "traceback": [
      "\u001b[0;31m---------------------------------------------------------------------------\u001b[0m",
      "\u001b[0;31mKeyboardInterrupt\u001b[0m                         Traceback (most recent call last)",
      "\u001b[0;32m<ipython-input-122-21e016ccd568>\u001b[0m in \u001b[0;36m<module>\u001b[0;34m()\u001b[0m\n\u001b[1;32m      1\u001b[0m n, bins, patches = plt.hist(nta, \n\u001b[1;32m      2\u001b[0m                             \u001b[0mbins\u001b[0m\u001b[0;34m=\u001b[0m\u001b[0;34m[\u001b[0m\u001b[0mx\u001b[0m \u001b[0;32mfor\u001b[0m \u001b[0mx\u001b[0m \u001b[0;32min\u001b[0m \u001b[0mrange\u001b[0m\u001b[0;34m(\u001b[0m\u001b[0;36m0\u001b[0m\u001b[0;34m,\u001b[0m\u001b[0;36m1200000\u001b[0m\u001b[0;34m,\u001b[0m\u001b[0;36m50000\u001b[0m\u001b[0;34m)\u001b[0m\u001b[0;34m]\u001b[0m\u001b[0;34m,\u001b[0m\u001b[0;34m\u001b[0m\u001b[0m\n\u001b[0;32m----> 3\u001b[0;31m                             normed=1, facecolor='blue', alpha=0.5)\n\u001b[0m\u001b[1;32m      4\u001b[0m \u001b[0;34m\u001b[0m\u001b[0m\n\u001b[1;32m      5\u001b[0m \u001b[0mplt\u001b[0m\u001b[0;34m.\u001b[0m\u001b[0mxlabel\u001b[0m\u001b[0;34m(\u001b[0m\u001b[0;34m'Smarts'\u001b[0m\u001b[0;34m)\u001b[0m\u001b[0;34m\u001b[0m\u001b[0m\n",
      "\u001b[0;32m~/anaconda3/lib/python3.6/site-packages/matplotlib/pyplot.py\u001b[0m in \u001b[0;36mhist\u001b[0;34m(x, bins, range, density, weights, cumulative, bottom, histtype, align, orientation, rwidth, log, color, label, stacked, normed, hold, data, **kwargs)\u001b[0m\n\u001b[1;32m   3002\u001b[0m                       \u001b[0mhisttype\u001b[0m\u001b[0;34m=\u001b[0m\u001b[0mhisttype\u001b[0m\u001b[0;34m,\u001b[0m \u001b[0malign\u001b[0m\u001b[0;34m=\u001b[0m\u001b[0malign\u001b[0m\u001b[0;34m,\u001b[0m \u001b[0morientation\u001b[0m\u001b[0;34m=\u001b[0m\u001b[0morientation\u001b[0m\u001b[0;34m,\u001b[0m\u001b[0;34m\u001b[0m\u001b[0m\n\u001b[1;32m   3003\u001b[0m                       \u001b[0mrwidth\u001b[0m\u001b[0;34m=\u001b[0m\u001b[0mrwidth\u001b[0m\u001b[0;34m,\u001b[0m \u001b[0mlog\u001b[0m\u001b[0;34m=\u001b[0m\u001b[0mlog\u001b[0m\u001b[0;34m,\u001b[0m \u001b[0mcolor\u001b[0m\u001b[0;34m=\u001b[0m\u001b[0mcolor\u001b[0m\u001b[0;34m,\u001b[0m \u001b[0mlabel\u001b[0m\u001b[0;34m=\u001b[0m\u001b[0mlabel\u001b[0m\u001b[0;34m,\u001b[0m\u001b[0;34m\u001b[0m\u001b[0m\n\u001b[0;32m-> 3004\u001b[0;31m                       stacked=stacked, normed=normed, data=data, **kwargs)\n\u001b[0m\u001b[1;32m   3005\u001b[0m     \u001b[0;32mfinally\u001b[0m\u001b[0;34m:\u001b[0m\u001b[0;34m\u001b[0m\u001b[0m\n\u001b[1;32m   3006\u001b[0m         \u001b[0max\u001b[0m\u001b[0;34m.\u001b[0m\u001b[0m_hold\u001b[0m \u001b[0;34m=\u001b[0m \u001b[0mwashold\u001b[0m\u001b[0;34m\u001b[0m\u001b[0m\n",
      "\u001b[0;32m~/anaconda3/lib/python3.6/site-packages/matplotlib/__init__.py\u001b[0m in \u001b[0;36minner\u001b[0;34m(ax, *args, **kwargs)\u001b[0m\n\u001b[1;32m   1708\u001b[0m                     warnings.warn(msg % (label_namer, func.__name__),\n\u001b[1;32m   1709\u001b[0m                                   RuntimeWarning, stacklevel=2)\n\u001b[0;32m-> 1710\u001b[0;31m             \u001b[0;32mreturn\u001b[0m \u001b[0mfunc\u001b[0m\u001b[0;34m(\u001b[0m\u001b[0max\u001b[0m\u001b[0;34m,\u001b[0m \u001b[0;34m*\u001b[0m\u001b[0margs\u001b[0m\u001b[0;34m,\u001b[0m \u001b[0;34m**\u001b[0m\u001b[0mkwargs\u001b[0m\u001b[0;34m)\u001b[0m\u001b[0;34m\u001b[0m\u001b[0m\n\u001b[0m\u001b[1;32m   1711\u001b[0m         \u001b[0mpre_doc\u001b[0m \u001b[0;34m=\u001b[0m \u001b[0minner\u001b[0m\u001b[0;34m.\u001b[0m\u001b[0m__doc__\u001b[0m\u001b[0;34m\u001b[0m\u001b[0m\n\u001b[1;32m   1712\u001b[0m         \u001b[0;32mif\u001b[0m \u001b[0mpre_doc\u001b[0m \u001b[0;32mis\u001b[0m \u001b[0;32mNone\u001b[0m\u001b[0;34m:\u001b[0m\u001b[0;34m\u001b[0m\u001b[0m\n",
      "\u001b[0;32m~/anaconda3/lib/python3.6/site-packages/matplotlib/axes/_axes.py\u001b[0m in \u001b[0;36mhist\u001b[0;34m(***failed resolving arguments***)\u001b[0m\n\u001b[1;32m   6211\u001b[0m             \u001b[0;32mif\u001b[0m \u001b[0mdensity\u001b[0m \u001b[0;32mand\u001b[0m \u001b[0;32mnot\u001b[0m \u001b[0mstacked\u001b[0m\u001b[0;34m:\u001b[0m\u001b[0;34m\u001b[0m\u001b[0m\n\u001b[1;32m   6212\u001b[0m                 \u001b[0mdb\u001b[0m \u001b[0;34m=\u001b[0m \u001b[0mnp\u001b[0m\u001b[0;34m.\u001b[0m\u001b[0mdiff\u001b[0m\u001b[0;34m(\u001b[0m\u001b[0mbins\u001b[0m\u001b[0;34m)\u001b[0m\u001b[0;34m\u001b[0m\u001b[0m\n\u001b[0;32m-> 6213\u001b[0;31m                 \u001b[0mm\u001b[0m \u001b[0;34m=\u001b[0m \u001b[0;34m(\u001b[0m\u001b[0mm\u001b[0m\u001b[0;34m.\u001b[0m\u001b[0mastype\u001b[0m\u001b[0;34m(\u001b[0m\u001b[0mfloat\u001b[0m\u001b[0;34m)\u001b[0m \u001b[0;34m/\u001b[0m \u001b[0mdb\u001b[0m\u001b[0;34m)\u001b[0m \u001b[0;34m/\u001b[0m \u001b[0mm\u001b[0m\u001b[0;34m.\u001b[0m\u001b[0msum\u001b[0m\u001b[0;34m(\u001b[0m\u001b[0;34m)\u001b[0m\u001b[0;34m\u001b[0m\u001b[0m\n\u001b[0m\u001b[1;32m   6214\u001b[0m             \u001b[0;32mif\u001b[0m \u001b[0mstacked\u001b[0m\u001b[0;34m:\u001b[0m\u001b[0;34m\u001b[0m\u001b[0m\n\u001b[1;32m   6215\u001b[0m                 \u001b[0;32mif\u001b[0m \u001b[0mmlast\u001b[0m \u001b[0;32mis\u001b[0m \u001b[0;32mNone\u001b[0m\u001b[0;34m:\u001b[0m\u001b[0;34m\u001b[0m\u001b[0m\n",
      "\u001b[0;31mKeyboardInterrupt\u001b[0m: "
     ]
    }
   ],
   "source": [
    "n, bins, patches = plt.hist(nta, \n",
    "                            bins=[x for x in range(0,1200000,50000)], \n",
    "                            normed=1, facecolor='blue', alpha=0.5)\n",
    "\n",
    "plt.xlabel('Smarts')\n",
    "plt.ylabel('Probability')\n",
    "plt.title(r'Histogram of IQ: $\\mu=100$, $\\sigma=15$')\n",
    "plt.grid(True)\n",
    "plt.show()"
   ]
  },
  {
   "cell_type": "code",
   "execution_count": 121,
   "metadata": {},
   "outputs": [
    {
     "data": {
      "image/png": "[encoded data removed]",
      "text/plain": [
       "<matplotlib.figure.Figure at 0x7f1abc694898>"
      ]
     },
     "metadata": {},
     "output_type": "display_data"
    }
   ],
   "source": [
    "\n",
    "mu, sigma = 100, 15\n",
    "x = mu + sigma*np.random.randn(10000)\n",
    "\n",
    "# the histogram of the data\n",
    "n, bins, patches = plt.hist(x, 50, normed=1, facecolor='green', alpha=0.75)\n",
    "\n",
    "plt.xlabel('Smarts')\n",
    "plt.ylabel('Probability')\n",
    "plt.title(r'$\\mathrm{Histogram\\ of\\ IQ:}\\ \\mu=100,\\ \\sigma=15$')\n",
    "plt.axis([40, 160, 0, 0.03])\n",
    "\n",
    "plt.show()"
   ]
  },
  {
   "cell_type": "code",
   "execution_count": null,
   "metadata": {
    "collapsed": true
   },
   "outputs": [],
   "source": []
  }
 ],
 "metadata": {
  "kernelspec": {
   "display_name": "Python 3",
   "language": "python",
   "name": "python3"
  },
  "language_info": {
   "codemirror_mode": {
    "name": "ipython",
    "version": 3
   },
   "file_extension": ".py",
   "mimetype": "text/x-python",
   "name": "python",
   "nbconvert_exporter": "python",
   "pygments_lexer": "ipython3",
   "version": "3.6.3"
  }
 },
 "nbformat": 4,
 "nbformat_minor": 2
}
