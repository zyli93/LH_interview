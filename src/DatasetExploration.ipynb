{
 "cells": [
  {
   "cell_type": "markdown",
   "metadata": {},
   "source": [
    "# Dataset Exploration\n",
    "*Author: Zeyu Li <zyli@cs.ucla.edu>*\n",
    "\n",
    "*Date: Jan, 3, 2018*\n",
    "\n",
    "This Jupyter-notebook serves as an explorer of the dataset. We do following things in this file:\n",
    "1. Load dataframe from the csv file.\n",
    "2. Select features that will be used in model\n",
    "3. For each feature, do statistics or plot figures.\n",
    "\n",
    "_Please note that not all attributes are looked at or plotted._"
   ]
  },
  {
   "cell_type": "code",
   "execution_count": 47,
   "metadata": {},
   "outputs": [
    {
     "name": "stdout",
     "output_type": "stream",
     "text": [
      "\n",
      "=======================\n",
      "    DATA Overview\n",
      "=======================\n",
      "Size of Data: 158800\n",
      "Zero Transction Amount 471\n",
      "Zero Loan Amount 109618\n",
      "Num. of Lenders:10074, \n",
      "\t Num. of \"* Undisclosed\" 110687\n",
      "Num. of property_type 12\n",
      "\n"
     ]
    }
   ],
   "source": [
    "import os, sys\n",
    "import pandas as pd\n",
    "import numpy as np\n",
    "\n",
    "DATA_DIR = \"../data/\"\n",
    "RAW_DATA_FILE = DATA_DIR + \"data.csv\"\n",
    "\n",
    "# Check if data dir or file exist\n",
    "if not os.path.exists(DATA_DIR) \\\n",
    "    or not os.path.exists(RAW_DATA_FILE):\n",
    "    print(\n",
    "        \"CANNOT find {} or {}\".format(DATA_DIR, RAW_DATA_FILE),\n",
    "        file=sys.stderr\n",
    "    )\n",
    "    sys.exit()\n",
    "\n",
    "# Load csv data\n",
    "raw_data = pd.read_csv(RAW_DATA_FILE)\n",
    "\n",
    "# Columns that we think useful\n",
    "COLS = [\n",
    "            \"property_id\",\n",
    "            \"transaction_amount\",\n",
    "            \"loan_amount\",\n",
    "            \"lender\",\n",
    "            \"transaction_date\",\n",
    "            \"property_type\",\n",
    "            \"year_built\",\n",
    "            \"sqft\",\n",
    "            \"property_address\"\n",
    "        ]\n",
    "\n",
    "data = raw_data[COLS]\n",
    "\n",
    "print(\n",
    "    \"\\n=======================\\n\"\n",
    "    \"    DATA Overview\\n\"\n",
    "    \"=======================\\n\"\n",
    "    \"Size of Data: {:d}\\n\"\n",
    "    \"Zero Transction Amount {:d}\\n\"\n",
    "    \"Zero Loan Amount {:d}\\n\"\n",
    "    \"Num. of Lenders:{:d}, \\n\\t Num. of \\\"* Undisclosed\\\" {:d}\\n\"\n",
    "    \"Num. of property_type {:d}\\n\"\n",
    "    .format(\n",
    "        data.shape[0],\n",
    "        data.transaction_amount.value_counts()[0],\n",
    "        data.loan_amount.value_counts()[0],\n",
    "        data.lender.nunique(),\n",
    "        data.lender.value_counts()['* Undisclosed'],\n",
    "        data.property_type.nunique()\n",
    "    )\n",
    ")\n",
    "\n",
    "\n",
    "# Now draw plot to look at different distribution of data.\n",
    "#     Transaction amount: ta\n",
    "#     Loan amount: la\n",
    "#     Lender: ld (might have long tail)\n",
    "#     Transaction date: td\n",
    "#     Property type: pt\n",
    "#     Year built: yb\n",
    "#     Square foot: sf\n",
    "#     Property Address: pa\n",
    "\n",
    "\n",
    "\n"
   ]
  },
  {
   "cell_type": "markdown",
   "metadata": {},
   "source": [
    "## Transaction Amount"
   ]
  },
  {
   "cell_type": "code",
   "execution_count": 49,
   "metadata": {
    "scrolled": false
   },
   "outputs": [
    {
     "data": {
      "text/plain": [
       "(231000000, 0)"
      ]
     },
     "execution_count": 49,
     "metadata": {},
     "output_type": "execute_result"
    }
   ],
   "source": [
    "# Get column of Transaction Amount to Numpy array\n",
    "np_ta = data.as_matrix(columns=[\"transaction_amount\"])\\\n",
    "            .transpose()\n",
    "# Get maximum and minimum of transaction_amount\n",
    "ta_min, ta_max = np.amin(np_ta), np.amax(np_ta)\n",
    "ta_max, ta_min"
   ]
  },
  {
   "cell_type": "code",
   "execution_count": 50,
   "metadata": {},
   "outputs": [
    {
     "name": "stdout",
     "output_type": "stream",
     "text": [
      "Proportion of first 10 bins: 99.8923173804\n",
      "Proportion of first 20 bins: 99.9590680101\n"
     ]
    }
   ],
   "source": [
    "hist_ta, edge_ta = np.histogram(np_ta, bins=[x for x in range(ta_min, ta_max + 1000000, 1000000)])\n",
    "\n",
    "print(\"Proportion of first 10 bins:\", sum(hist_ta[:11]) * 100 / sum(hist_ta))\n",
    "print(\"Proportion of first 20 bins:\", sum(hist_ta[:21]) * 100 / sum(hist_ta))"
   ]
  },
  {
   "cell_type": "markdown",
   "metadata": {},
   "source": [
    "Based on our observation of `hist_ta` and `edge_ta`, we decide to filter out some data entries by following constraint:\n",
    "\n",
    "`transaction amount < 1,300,000`"
   ]
  },
  {
   "cell_type": "markdown",
   "metadata": {},
   "source": [
    "## Loan amount"
   ]
  },
  {
   "cell_type": "code",
   "execution_count": 5,
   "metadata": {
    "collapsed": true
   },
   "outputs": [],
   "source": [
    "np_la = data.as_matrix(columns=['loan_amount'])\\\n",
    "            .transpose()"
   ]
  },
  {
   "cell_type": "code",
   "execution_count": 6,
   "metadata": {},
   "outputs": [
    {
     "name": "stdout",
     "output_type": "stream",
     "text": [
      "0.0 46499900.0\n"
     ]
    }
   ],
   "source": [
    "la_min, la_max = np.amin(np_la), np.amax(np_la)\n",
    "print(la_min, la_max)"
   ]
  },
  {
   "cell_type": "code",
   "execution_count": 51,
   "metadata": {},
   "outputs": [
    {
     "name": "stdout",
     "output_type": "stream",
     "text": [
      "\n",
      "Count of non-zero entries:\n",
      "49182\n",
      "\n",
      "Proportion of non-zero terms in loan amount\n",
      "0.3097103274559194\n"
     ]
    }
   ],
   "source": [
    "hist_la, edge_la = np.histogram(np_la, bins=[x for x in range(int(la_min), int(la_max), 100000)])\n",
    "\n",
    "print(\"\\nCount of non-zero entries:\")\n",
    "print(np.count_nonzero(np_la))\n",
    "\n",
    "print(\"\\nProportion of non-zero terms in loan amount\")\n",
    "print(np.count_nonzero(np_la) / np_la.shape[1])"
   ]
  },
  {
   "cell_type": "markdown",
   "metadata": {},
   "source": [
    "## Lender"
   ]
  },
  {
   "cell_type": "code",
   "execution_count": 52,
   "metadata": {},
   "outputs": [
    {
     "name": "stdout",
     "output_type": "stream",
     "text": [
      "lenders in total 158800\n",
      "unique lenders 10074\n",
      "Most Common * Undisclosed\n",
      "Count of that 110687\n"
     ]
    }
   ],
   "source": [
    "np_ld = data.as_matrix(columns=['lender'])\\\n",
    "            .transpose()\n",
    "print(\"lenders in total\", np_ld.size)\n",
    "print(\"unique lenders\", np.unique(np_ld).size)\n",
    "\n",
    "values, counts = np.unique(np_ld,return_counts=True)\n",
    "ind=np.argmax(counts)\n",
    "print(\"Most Common\", values[ind])\n",
    "print(\"Count of that\", counts[ind])\n"
   ]
  },
  {
   "cell_type": "markdown",
   "metadata": {},
   "source": [
    "## Transaction Date"
   ]
  },
  {
   "cell_type": "code",
   "execution_count": 59,
   "metadata": {},
   "outputs": [
    {
     "name": "stdout",
     "output_type": "stream",
     "text": [
      "Number of dates that are non-empty: 158800\n"
     ]
    }
   ],
   "source": [
    "np_td = data.as_matrix(columns=['transaction_date'])\\\n",
    "            .transpose()\n",
    "np_td.sort()\n",
    "np_td_len = [len(x) for x in list(np_td[0])]\n",
    "print(\"Number of dates that are non-empty:\", np_td_len.count(10))\n"
   ]
  },
  {
   "cell_type": "markdown",
   "metadata": {
    "collapsed": true
   },
   "source": [
    "## Property Type"
   ]
  },
  {
   "cell_type": "code",
   "execution_count": 10,
   "metadata": {},
   "outputs": [
    {
     "name": "stdout",
     "output_type": "stream",
     "text": [
      "['RAPT' 'RCON' 'RCOO' 'RDUP' 'RMFD' 'RMOB' 'RMSC' 'RQUA' 'RSFR' 'RTIM'\n",
      " 'RTRI' 'VRES']\n",
      "[  1626  17255     33   3875   1482   2063   1452   1020 124417     15\n",
      "    887   4675]\n",
      "Sum: 158800\n"
     ]
    }
   ],
   "source": [
    "np_pt = data.as_matrix(columns=['property_type'])\\\n",
    "            .transpose()\n",
    "pt_values, pt_counts = np.unique(np_pt, return_counts=True)\n",
    "print(pt_values)\n",
    "print(pt_counts)\n",
    "print(\"Sum:\", sum(pt_counts))"
   ]
  },
  {
   "cell_type": "markdown",
   "metadata": {},
   "source": [
    "## Year built"
   ]
  },
  {
   "cell_type": "code",
   "execution_count": 61,
   "metadata": {},
   "outputs": [
    {
     "name": "stdout",
     "output_type": "stream",
     "text": [
      "0 2017\n",
      "Non-zero built year 149564\n",
      "Zero built year 9236\n",
      "\n",
      "Years of year_built\n",
      "[   0 1801 1808 1850 1860 1865 1870 1871 1873 1874 1875 1876 1877 1878 1879\n",
      " 1880 1881 1882 1883 1885 1886 1887 1888 1889 1890 1891 1892 1893 1894 1895\n",
      " 1896 1897 1898 1899 1900 1901 1902 1903 1904 1905 1906 1907 1908 1909 1910\n",
      " 1911 1912 1913 1914 1915 1916 1917 1918 1919 1920 1921 1922 1923 1924 1925\n",
      " 1926 1927 1928 1929 1930 1931 1932 1933 1934 1935 1936 1937 1938 1939 1940\n",
      " 1941 1942 1943 1944 1945 1946 1947 1948 1949 1950 1951 1952 1953 1954 1955\n",
      " 1956 1957 1958 1959 1960 1961 1962 1963 1964 1965 1966 1967 1968 1969 1970\n",
      " 1971 1972 1973 1974 1975 1976 1977 1978 1979 1980 1981 1982 1983 1984 1985\n",
      " 1986 1987 1988 1989 1990 1991 1992 1993 1994 1995 1996 1997 1998 1999 2000\n",
      " 2001 2002 2003 2004 2005 2006 2007 2008 2009 2010 2011 2012 2013 2014 2015\n",
      " 2016 2017]\n",
      "\n",
      "Count of each year\n",
      "[9236   16    1    2    1    1    9    1    2    1    5    1    1    2    1\n",
      "   10    1    1    1   16    4    1   10    8   99    5    8   10    7   64\n",
      "   19   12   36   10  535   79   66   96  120  229  212  219  324  194  606\n",
      "  255  441  321  246  350  221  130  267  225  851  577 1126 1223 1352 1376\n",
      "  981  759  867  563  815  291  236  148  172  420  478  547  793  905 1430\n",
      " 1113  852  441  683  700 1235 2146 2144 1853 3069 2276 2472 2684 3194 3780\n",
      " 2900 2447 2227 2724 2978 2324 2210 2296 2471 1853 1164  969 1265 1235 1610\n",
      " 2029 2233 2262 1831 1432 1768 2432 2469 2766 2603 1761 1127 1381 1974 1954\n",
      " 2124 2089 2174 2485 2404 1394 1064  925  916  833  782  759  921  982 1191\n",
      " 1258 1324 1701 2092 2269 2079 1269  579  299  215  143  362  903 1118 1253\n",
      "  813   95]\n"
     ]
    }
   ],
   "source": [
    "np_yb = data.as_matrix(columns=['year_built'])\\\n",
    "            .transpose()\n",
    "print(np.amin(np_yb), np.amax(np_yb))\n",
    "print(\"Non-zero built year\", np.count_nonzero(np_yb))\n",
    "print(\"Zero built year\", np_yb.size - np.count_nonzero(np_yb))\n",
    "yb_values, yb_counts = np.unique(np_yb, return_counts=True)\n",
    "\n",
    "print(\"\\nYears of year_built\")\n",
    "print(yb_values)\n",
    "print(\"\\nCount of each year\")\n",
    "print(yb_counts)"
   ]
  },
  {
   "cell_type": "markdown",
   "metadata": {},
   "source": [
    "## Sqft"
   ]
  },
  {
   "cell_type": "code",
   "execution_count": 62,
   "metadata": {},
   "outputs": [
    {
     "name": "stdout",
     "output_type": "stream",
     "text": [
      "0 9621009\n",
      "# of Non-zero square foot 152158\n",
      "# of Zero Square foot 6642\n"
     ]
    }
   ],
   "source": [
    "np_sr = data.as_matrix(columns=['sqft'])\\\n",
    "            .transpose()\n",
    "print(np.amin(np_sr), np.amax(np_sr))\n",
    "print(\"# of Non-zero square foot\", np.count_nonzero(np_sr))\n",
    "print(\"# of Zero Square foot\", np_sr.size - np.count_nonzero(np_sr))"
   ]
  },
  {
   "cell_type": "markdown",
   "metadata": {
    "collapsed": true
   },
   "source": [
    "Let's take a look at the entries where __sqft__ is 0 to see if there are some common traits."
   ]
  },
  {
   "cell_type": "code",
   "execution_count": 65,
   "metadata": {},
   "outputs": [
    {
     "name": "stdout",
     "output_type": "stream",
     "text": [
      "Size of Square feet zero 59778\n"
     ]
    }
   ],
   "source": [
    "sqft_zero = data.loc[data['sqft'] == 0]\n",
    "print(\"Size of Square feet zero\", sqft_zero.size)\n",
    "# Uncomment to see the entries that has zero\n",
    "# print(sqft_zero[['transaction_amount', 'year_built', 'property_type']])"
   ]
  },
  {
   "cell_type": "code",
   "execution_count": 66,
   "metadata": {},
   "outputs": [
    {
     "name": "stdout",
     "output_type": "stream",
     "text": [
      "0       6349\n",
      "1900     175\n",
      "2016      13\n",
      "1974       7\n",
      "1964       5\n",
      "1979       5\n",
      "1978       5\n",
      "1990       4\n",
      "1980       4\n",
      "1988       4\n",
      "2000       4\n",
      "Name: year_built, dtype: int64\n"
     ]
    }
   ],
   "source": [
    "print(sqft_zero['year_built'].value_counts()[:11])"
   ]
  },
  {
   "cell_type": "markdown",
   "metadata": {},
   "source": [
    "If both `year_built` and `sqft` are zero, we are then losing too much information. So we decided to remove those entries. Hence, we have following 2 constraints:\n",
    "1. Transaction amout < 1,300,000\n",
    "2. Year built and Square feet cannot be both 0\n",
    "\n",
    "## Creating new datasets after constraints applied"
   ]
  },
  {
   "cell_type": "code",
   "execution_count": 15,
   "metadata": {
    "collapsed": true
   },
   "outputs": [],
   "source": [
    "newdata = data.copy()\n",
    "newdata = newdata.loc[ newdata['transaction_amount'] < 13000000 ]\n",
    "newdata = newdata.loc[ (newdata['year_built'] != 0) & (newdata['sqft'] != 0) ]"
   ]
  },
  {
   "cell_type": "code",
   "execution_count": 16,
   "metadata": {},
   "outputs": [
    {
     "data": {
      "text/plain": [
       "149199"
      ]
     },
     "execution_count": 16,
     "metadata": {},
     "output_type": "execute_result"
    }
   ],
   "source": [
    "newdata.shape[0]"
   ]
  },
  {
   "cell_type": "code",
   "execution_count": 68,
   "metadata": {},
   "outputs": [
    {
     "name": "stdout",
     "output_type": "stream",
     "text": [
      "6349\n"
     ]
    }
   ],
   "source": [
    "# bz: both zero\n",
    "bz = data.loc[ (data['year_built'] == 0) & (data['sqft'] == 0)]\n",
    "print(bz.shape[0])"
   ]
  },
  {
   "cell_type": "code",
   "execution_count": 69,
   "metadata": {},
   "outputs": [
    {
     "name": "stdout",
     "output_type": "stream",
     "text": [
      "139\n"
     ]
    }
   ],
   "source": [
    "tal = data.loc[ (data['transaction_amount']) > 13000000]\n",
    "print(tal.shape[0])"
   ]
  },
  {
   "cell_type": "code",
   "execution_count": 70,
   "metadata": {},
   "outputs": [
    {
     "name": "stdout",
     "output_type": "stream",
     "text": [
      "6488\n"
     ]
    }
   ],
   "source": [
    "print(bz.shape[0] + tal.shape[0])"
   ]
  },
  {
   "cell_type": "markdown",
   "metadata": {
    "collapsed": true
   },
   "source": [
    "## New data distribution\n",
    "\n",
    "### Transaction Amount"
   ]
  },
  {
   "cell_type": "code",
   "execution_count": 71,
   "metadata": {
    "collapsed": true
   },
   "outputs": [],
   "source": [
    "nta = newdata.as_matrix(columns=[\"transaction_amount\"])\\\n",
    "             .transpose()\n",
    "nta_hist, nta_edge = np.histogram(nta, bins=[x for x in range(0,2000001,50000)])"
   ]
  },
  {
   "cell_type": "code",
   "execution_count": 72,
   "metadata": {
    "collapsed": true
   },
   "outputs": [],
   "source": [
    "import matplotlib.pyplot as plt"
   ]
  },
  {
   "cell_type": "code",
   "execution_count": 73,
   "metadata": {},
   "outputs": [
    {
     "data": {
      "image/png": "[encoded data removed]",
      "text/plain": [
       "<matplotlib.figure.Figure at 0x7f9fc1dcae48>"
      ]
     },
     "metadata": {},
     "output_type": "display_data"
    }
   ],
   "source": [
    "center = (nta_edge[:-1] + nta_edge[1:]) / 2\n",
    "fig, ax = plt.subplots(figsize=(10,10))\n",
    "ax.bar(center, \n",
    "       nta_hist, \n",
    "       align='center', \n",
    "       width=np.diff(nta_edge),\n",
    "       edgecolor='black')\n",
    "ax.set_xticks(nta_edge[::5])\n",
    "\n",
    "plt.xlabel('Intervals of Transaction Amount ($50,000/bin)', fontsize=18)\n",
    "plt.ylabel('Transaction Amount Count', fontsize=18)\n",
    "plt.title('Distribution of Transaction Amount', fontsize=18)\n",
    "\n",
    "plt.grid(True)\n",
    "# plt.axis([40, 160, 0, 0.03])\n",
    "plt.show()"
   ]
  },
  {
   "cell_type": "markdown",
   "metadata": {},
   "source": [
    "### Loan Amount"
   ]
  },
  {
   "cell_type": "code",
   "execution_count": 74,
   "metadata": {
    "collapsed": true
   },
   "outputs": [],
   "source": [
    "nla = newdata.as_matrix(columns=[\"loan_amount\"])\\\n",
    "             .transpose()"
   ]
  },
  {
   "cell_type": "code",
   "execution_count": 75,
   "metadata": {
    "collapsed": true
   },
   "outputs": [],
   "source": [
    "nla_nz = nla[np.nonzero(nla)]"
   ]
  },
  {
   "cell_type": "code",
   "execution_count": 76,
   "metadata": {},
   "outputs": [
    {
     "name": "stdout",
     "output_type": "stream",
     "text": [
      "1.0 16000000.0\n"
     ]
    }
   ],
   "source": [
    "nla_nz_min = np.amin(nla_nz)\n",
    "nla_nz_max = np.amax(nla_nz)\n",
    "print(nla_nz_min, nla_nz_max)"
   ]
  },
  {
   "cell_type": "code",
   "execution_count": 77,
   "metadata": {
    "collapsed": true
   },
   "outputs": [],
   "source": [
    "nla_nz_hist, nla_nz_edge = np.histogram(nla_nz, bins=[x for x in range(0,2000001,50000)])"
   ]
  },
  {
   "cell_type": "code",
   "execution_count": 78,
   "metadata": {},
   "outputs": [
    {
     "data": {
      "image/png": "[encoded data removed]",
      "text/plain": [
       "<matplotlib.figure.Figure at 0x7f9fc3bb9c88>"
      ]
     },
     "metadata": {},
     "output_type": "display_data"
    }
   ],
   "source": [
    "center = (nla_nz_edge[:-1] + nla_nz_edge[1:]) / 2\n",
    "fig, ax = plt.subplots(figsize=(10,10))\n",
    "ax.bar(center, \n",
    "       nla_nz_hist, \n",
    "       align='center', \n",
    "       width=np.diff(nla_nz_edge),\n",
    "       color='green',\n",
    "       edgecolor='black')\n",
    "ax.set_xticks(nla_nz_edge[::5])\n",
    "\n",
    "plt.xlabel('Intervals of Non-zero Loan Amount ($50,000/bin)', fontsize=18)\n",
    "plt.ylabel('Non-zero Loan Amount Count', fontsize=18)\n",
    "plt.title('Distribution of Non-zero Loan Amount', fontsize=18)\n",
    "\n",
    "plt.grid(True)\n",
    "# plt.axis([40, 160, 0, 0.03])\n",
    "plt.show()"
   ]
  },
  {
   "cell_type": "markdown",
   "metadata": {},
   "source": [
    "### Transaction Date\n",
    "After the plot is made, I found that `matplotlib` is not as beautiful as Excel work. Therefore, this figure is not present in the slides."
   ]
  },
  {
   "cell_type": "code",
   "execution_count": 79,
   "metadata": {
    "collapsed": true
   },
   "outputs": [],
   "source": [
    "from datetime import datetime\n",
    "ntd = newdata.as_matrix(columns=[\"transaction_date\"])\\\n",
    "             .transpose()\n",
    "ntd_yr = [datetime.strptime(td, \"%Y-%m-%d\").year for td in ntd[0]]\n",
    "years, yrs_cnt = np.unique(ntd_yr, return_counts=True)"
   ]
  },
  {
   "cell_type": "code",
   "execution_count": 80,
   "metadata": {},
   "outputs": [
    {
     "name": "stdout",
     "output_type": "stream",
     "text": [
      "[2012 2013 2014 2015 2016 2017] [20949 38035 28861 27174 24293  9887]\n"
     ]
    }
   ],
   "source": [
    "print(years, yrs_cnt)"
   ]
  },
  {
   "cell_type": "code",
   "execution_count": 82,
   "metadata": {},
   "outputs": [
    {
     "data": {
      "image/png": "[encoded data removed]",
      "text/plain": [
       "<matplotlib.figure.Figure at 0x7f9fc53ce748>"
      ]
     },
     "metadata": {},
     "output_type": "display_data"
    }
   ],
   "source": [
    "import matplotlib as mpl\n",
    "mpl.rcParams['font.size'] = 15.0\n",
    "fig, ax = plt.subplots(figsize=(10,10))\n",
    "patches, texts, autotexts= ax.pie(yrs_cnt, \n",
    "                                  labels=years,\n",
    "                                  autopct='%1.2f%%',\n",
    "                                  shadow=True)\n",
    "plt.show()"
   ]
  },
  {
   "cell_type": "markdown",
   "metadata": {},
   "source": [
    "### Property Type"
   ]
  },
  {
   "cell_type": "code",
   "execution_count": 83,
   "metadata": {},
   "outputs": [
    {
     "name": "stdout",
     "output_type": "stream",
     "text": [
      "['RAPT', 'RCON', 'RCOO', 'RDUP', 'RMFD', 'RMOB', 'RMSC', 'RQUA', 'RSFR', 'RTIM', 'RTRI', 'VRES']\n",
      "[  1458  16359     32   3769   1122   1747    959    986 121355      2\n",
      "    860    550]\n"
     ]
    }
   ],
   "source": [
    "npt = newdata.as_matrix(columns=[\"property_type\"])\n",
    "types, tps_cnt = np.unique(npt, return_counts=True)\n",
    "\n",
    "print(list(types))\n",
    "print(tps_cnt)"
   ]
  },
  {
   "cell_type": "markdown",
   "metadata": {},
   "source": [
    "### Year Built\n",
    "Not presented in slides."
   ]
  },
  {
   "cell_type": "code",
   "execution_count": 84,
   "metadata": {},
   "outputs": [],
   "source": [
    "nyb = newdata.as_matrix(columns=[\"year_built\"])\\\n",
    "             .transpose()\n",
    "\n",
    "nyb_yr, ybry_counts = np.unique(nyb, return_counts=True)"
   ]
  },
  {
   "cell_type": "markdown",
   "metadata": {
    "collapsed": true
   },
   "source": [
    "### Lender\n",
    "Not presented in slides."
   ]
  },
  {
   "cell_type": "code",
   "execution_count": 40,
   "metadata": {},
   "outputs": [
    {
     "name": "stdout",
     "output_type": "stream",
     "text": [
      "9623 ['* OTHER INSTITUTIONAL LEN' '* Undisclosed' '1 VALLEY VIEW GROUP LLC' ...,\n",
      " 'ZUTHER' 'ZWETTLER TRUST (RT)' 'ZWINGER']\n",
      "[  1176 103468      1 ...,      3      1      1]\n"
     ]
    }
   ],
   "source": [
    "nld = newdata.as_matrix(columns=['lender'])\\\n",
    "             .transpose()\n",
    "    \n",
    "nld_name, ld_counts = np.unique(nld, return_counts=True)\n",
    "print(len(nld_name))\n",
    "print(nld_name)\n",
    "print(ld_counts)"
   ]
  },
  {
   "cell_type": "code",
   "execution_count": 85,
   "metadata": {},
   "outputs": [
    {
     "data": {
      "text/plain": [
       "758"
      ]
     },
     "execution_count": 85,
     "metadata": {},
     "output_type": "execute_result"
    }
   ],
   "source": [
    "pdld = newdata['lender']\n",
    "pdld.value_counts()['LendingHome']"
   ]
  },
  {
   "cell_type": "markdown",
   "metadata": {},
   "source": [
    "We can see that the dataset, with more than 15k samples, only has 758 samples of `LendingHome`. The size of this subset is less then enough to tell convincingly how LendingHome "
   ]
  }
 ],
 "metadata": {
  "kernelspec": {
   "display_name": "Python 3",
   "language": "python",
   "name": "python3"
  },
  "language_info": {
   "codemirror_mode": {
    "name": "ipython",
    "version": 3
   },
   "file_extension": ".py",
   "mimetype": "text/x-python",
   "name": "python",
   "nbconvert_exporter": "python",
   "pygments_lexer": "ipython3",
   "version": "3.6.3"
  }
 },
 "nbformat": 4,
 "nbformat_minor": 2
}
